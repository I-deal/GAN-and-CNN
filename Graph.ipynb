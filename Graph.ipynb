{
 "cells": [
  {
   "cell_type": "code",
   "execution_count": 3,
   "metadata": {
    "collapsed": false,
    "deletable": true,
    "editable": true,
    "scrolled": true
   },
   "outputs": [
    {
     "data": {
      "image/png": "[encoded data removed]",
      "text/plain": [
       "<matplotlib.figure.Figure at 0x7fd3ef8aa240>"
      ]
     },
     "metadata": {},
     "output_type": "display_data"
    }
   ],
   "source": [
    "%matplotlib inline\n",
    "import numpy as np\n",
    "import matplotlib.pyplot as plt\n",
    "\n",
    "filename=\"./entropy_list.csv\"\n",
    "\n",
    "entropies = []\n",
    "with open(filename, 'r') as fh_data:\n",
    "    for line in fh_data:\n",
    "        cols = line.split(\",\")\n",
    "        entropies.append(float(cols[2]))\n",
    "\n",
    "fig = plt.figure(figsize=(10,7))\n",
    "plt.hist(entropies, bins = [10.0**e for e in np.arange(-15,2, 0.5)])\n",
    "plt.xscale('log')\n",
    "plt.title(\"Distribution of Entropy\", fontsize=28)\n",
    "plt.tick_params(labelsize=20)\n",
    "plt.xlabel(\"entropy (log-scale)\", fontsize=24)\n",
    "#plt.xticks(range(-16,2,4),[str(10**e) for e in range(-16,2,4)])\n",
    "plt.ylabel(\"frequency\", fontsize=24)\n",
    "plt.grid()\n",
    "#plt.savefig(\"distribution_of_entropy.png\")\n",
    "plt.show()"
   ]
  },
  {
   "cell_type": "code",
   "execution_count": 8,
   "metadata": {
    "collapsed": false,
    "deletable": true,
    "editable": true
   },
   "outputs": [
    {
     "name": "stdout",
     "output_type": "stream",
     "text": [
      "4211\n",
      "[476, 3190, 2919, 85, 1558, 3542, 274, 1878, 526, 2357]\n"
     ]
    },
    {
     "data": {
      "text/plain": [
       "<matplotlib.figure.Figure at 0x7fd3efab1d68>"
      ]
     },
     "metadata": {},
     "output_type": "display_data"
    },
    {
     "data": {
      "text/plain": [
       "<matplotlib.figure.Figure at 0x7fd3efd3fd30>"
      ]
     },
     "metadata": {},
     "output_type": "display_data"
    },
    {
     "data": {
      "text/plain": [
       "<matplotlib.figure.Figure at 0x7fd3efded2b0>"
      ]
     },
     "metadata": {},
     "output_type": "display_data"
    },
    {
     "data": {
      "text/plain": [
       "<matplotlib.figure.Figure at 0x7fd3ef9aa5c0>"
      ]
     },
     "metadata": {},
     "output_type": "display_data"
    },
    {
     "data": {
      "text/plain": [
       "<matplotlib.figure.Figure at 0x7fd3ef89ee80>"
      ]
     },
     "metadata": {},
     "output_type": "display_data"
    },
    {
     "data": {
      "text/plain": [
       "<matplotlib.figure.Figure at 0x7fd3efd9d748>"
      ]
     },
     "metadata": {},
     "output_type": "display_data"
    },
    {
     "data": {
      "text/plain": [
       "<matplotlib.figure.Figure at 0x7fd3efc0e208>"
      ]
     },
     "metadata": {},
     "output_type": "display_data"
    },
    {
     "data": {
      "text/plain": [
       "<matplotlib.figure.Figure at 0x7fd3ef89f668>"
      ]
     },
     "metadata": {},
     "output_type": "display_data"
    },
    {
     "data": {
      "text/plain": [
       "<matplotlib.figure.Figure at 0x7fd3ef9209b0>"
      ]
     },
     "metadata": {},
     "output_type": "display_data"
    },
    {
     "data": {
      "text/plain": [
       "<matplotlib.figure.Figure at 0x7fd3efb955f8>"
      ]
     },
     "metadata": {},
     "output_type": "display_data"
    }
   ],
   "source": [
    "import random\n",
    "from PIL import Image\n",
    "import matplotlib.pyplot as plt\n",
    "import os\n",
    "import math\n",
    "\n",
    "filename=\"./entropy_list.csv\"\n",
    "data = []\n",
    "imageNum = 10\n",
    "\n",
    "os.system(\"rm ./sample_images/*.png\")\n",
    "\n",
    "with open(filename, 'r') as fh_data:\n",
    "    for line in fh_data:\n",
    "        cols = line.split(\",\")\n",
    "        if 10.0**(-3.0) < float(cols[2]) < 10.0**(-2.0):\n",
    "            name = cols[0]\n",
    "            h = float(cols[2])\n",
    "            prob = [float(cols[idx]) for idx in range(3, len(cols))]\n",
    "            data.append([name, h, prob])\n",
    "\n",
    "print(len(data))\n",
    "indeces = random.sample(range(len(data)), imageNum)\n",
    "print(indeces)\n",
    "#fig = plt.figure(figsize=(21,30))\n",
    "for i in range(0, imageNum):\n",
    "    # 画像取得\n",
    "    name = data[indeces[i]][0]\n",
    "    os.system(\"cp ./generated_data/\"+name+\".png ./sample_images/\"+name+\"_\"+str(math.floor(float(name)/169.0)%10)+\".png\")\n",
    "    #name = data[indeces[i]][0]\n",
    "    #im = Image.open(\"./generated_data/\"+name+\".png\")\n",
    "    #im_array = np.asarray(im)\n",
    "    #plt.subplot(imageNum//2, 4, 2*i+1)\n",
    "    #plt.xticks([])\n",
    "    #plt.yticks([])\n",
    "    #plt.imshow(im_array, interpolation=\"none\")\n",
    "    \n",
    "    # 確率の表示\n",
    "    prob = data[indeces[i]][2]\n",
    "    fig = plt.figure(figsize=(8,4))\n",
    "    plt.bar(range(10),prob, align=\"center\", log=True)\n",
    "    plt.tick_params(labelsize=24)\n",
    "    plt.xticks(range(10), [str(a) for a in range(10)])\n",
    "    plt.xlim(-1, 10)\n",
    "    plt.ylim(1.0e-7, 1.0)\n",
    "    plt.grid\n",
    "    plt.savefig(\"./sample_images/\"+name+\"_prob.png\")\n",
    "    plt.clf()\n",
    "    fig.clear()\n",
    "\n",
    "#plt.savefig(\"graphs_10_00.png\")\n",
    "#plt.show()"
   ]
  },
  {
   "cell_type": "code",
   "execution_count": null,
   "metadata": {
    "collapsed": true,
    "deletable": true,
    "editable": true
   },
   "outputs": [],
   "source": []
  }
 ],
 "metadata": {
  "hide_input": false,
  "kernelspec": {
   "display_name": "Python 3",
   "language": "python",
   "name": "python3"
  },
  "language_info": {
   "codemirror_mode": {
    "name": "ipython",
    "version": 3
   },
   "file_extension": ".py",
   "mimetype": "text/x-python",
   "name": "python",
   "nbconvert_exporter": "python",
   "pygments_lexer": "ipython3",
   "version": "3.4.3"
  }
 },
 "nbformat": 4,
 "nbformat_minor": 2
}
