{
 "cells": [
  {
   "cell_type": "code",
   "execution_count": 1,
   "metadata": {
    "collapsed": false,
    "deletable": true,
    "editable": true
   },
   "outputs": [
    {
     "name": "stdout",
     "output_type": "stream",
     "text": [
      "33800\n"
     ]
    }
   ],
   "source": [
    "from PIL import Image as im\n",
    "import os\n",
    "\n",
    "batch_dir = \"./cgan/samples/batch_image\"\n",
    "files = os.listdir(batch_dir)\n",
    "files = sorted(files)\n",
    "\n",
    "data = []\n",
    "\n",
    "for file in files:\n",
    "    ims = im.open(batch_dir+\"/\"+file)\n",
    "\n",
    "    W = ims.size[0]\n",
    "    H = ims.size[1]\n",
    "    Num = W//28\n",
    "    region = ims.crop((0, 0, W, H))\n",
    "    \n",
    "    for i in range(Num):\n",
    "        w_min = i*28\n",
    "        w_max = w_min + 28\n",
    "        for j in range(Num):\n",
    "            h_min = j*28\n",
    "            h_max = h_min + 28\n",
    "\n",
    "            image = ims.crop((w_min, h_min, w_max, h_max))\n",
    "            data.append(image)\n",
    "            \n",
    "for i, d in enumerate(data):\n",
    "    d.save(\"./generated_data/\"+str(i).zfill(5)+\".png\", \"PNG\")\n",
    "\n",
    "print(len(data))"
   ]
  },
  {
   "cell_type": "code",
   "execution_count": null,
   "metadata": {
    "collapsed": true,
    "deletable": true,
    "editable": true
   },
   "outputs": [],
   "source": []
  }
 ],
 "metadata": {
  "hide_input": false,
  "kernelspec": {
   "display_name": "Python 3",
   "language": "python",
   "name": "python3"
  },
  "language_info": {
   "codemirror_mode": {
    "name": "ipython",
    "version": 3
   },
   "file_extension": ".py",
   "mimetype": "text/x-python",
   "name": "python",
   "nbconvert_exporter": "python",
   "pygments_lexer": "ipython3",
   "version": "3.4.3"
  }
 },
 "nbformat": 4,
 "nbformat_minor": 2
}
